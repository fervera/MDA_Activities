{
 "cells": [
  {
   "cell_type": "code",
   "execution_count": 2,
   "id": "f588889a",
   "metadata": {},
   "outputs": [
    {
     "name": "stdout",
     "output_type": "stream",
     "text": [
      "hola mundo\n"
     ]
    }
   ],
   "source": [
    "print(\"hola mundo\")"
   ]
  },
  {
   "cell_type": "code",
   "execution_count": 3,
   "id": "f8b3a4dc",
   "metadata": {},
   "outputs": [
    {
     "name": "stdout",
     "output_type": "stream",
     "text": [
      "Test2\n"
     ]
    }
   ],
   "source": [
    "print(\"Test2\")"
   ]
  },
  {
   "cell_type": "code",
   "execution_count": 4,
   "id": "451ca4a8",
   "metadata": {},
   "outputs": [],
   "source": [
    "mylist = [1, 2, 3, 4, 5]"
   ]
  },
  {
   "cell_type": "code",
   "execution_count": 5,
   "id": "6bc895aa",
   "metadata": {},
   "outputs": [
    {
     "name": "stdout",
     "output_type": "stream",
     "text": [
      "[1, 2, 3, 4, 5]\n"
     ]
    }
   ],
   "source": [
    "print(mylist)"
   ]
  },
  {
   "cell_type": "code",
   "execution_count": 8,
   "id": "e5cb8841",
   "metadata": {},
   "outputs": [
    {
     "name": "stdout",
     "output_type": "stream",
     "text": [
      "30\n",
      "[1, 2, 3, 4, 5]\n"
     ]
    }
   ],
   "source": [
    "x = 10\n",
    "y = 20\n",
    "print(x + y)\n",
    "print(mylist)"
   ]
  },
  {
   "cell_type": "code",
   "execution_count": 9,
   "id": "3f8d5a84",
   "metadata": {},
   "outputs": [],
   "source": [
    "y = \"Fernando\"\n"
   ]
  },
  {
   "cell_type": "code",
   "execution_count": 10,
   "id": "8a136bde",
   "metadata": {},
   "outputs": [
    {
     "name": "stdout",
     "output_type": "stream",
     "text": [
      "Fernando\n"
     ]
    }
   ],
   "source": [
    "print(y)"
   ]
  },
  {
   "cell_type": "code",
   "execution_count": 11,
   "id": "84c0d259",
   "metadata": {},
   "outputs": [
    {
     "name": "stdout",
     "output_type": "stream",
     "text": [
      "10\n"
     ]
    }
   ],
   "source": [
    "print(x)"
   ]
  },
  {
   "cell_type": "code",
   "execution_count": 12,
   "id": "17162aac",
   "metadata": {},
   "outputs": [],
   "source": [
    "x = str(3)"
   ]
  },
  {
   "cell_type": "code",
   "execution_count": 13,
   "id": "9c2cd719",
   "metadata": {},
   "outputs": [
    {
     "name": "stdout",
     "output_type": "stream",
     "text": [
      "3\n"
     ]
    }
   ],
   "source": [
    "print(x)"
   ]
  },
  {
   "cell_type": "code",
   "execution_count": 14,
   "id": "bc884b1b",
   "metadata": {},
   "outputs": [
    {
     "name": "stdout",
     "output_type": "stream",
     "text": [
      "3\n"
     ]
    }
   ],
   "source": [
    "x = int(3)\n",
    "print(x)"
   ]
  },
  {
   "cell_type": "code",
   "execution_count": 15,
   "id": "d4963edf",
   "metadata": {},
   "outputs": [
    {
     "name": "stdout",
     "output_type": "stream",
     "text": [
      "3.0\n"
     ]
    }
   ],
   "source": [
    "x = float(3)\n",
    "print(x)"
   ]
  },
  {
   "cell_type": "code",
   "execution_count": 17,
   "id": "aa0c3aab",
   "metadata": {},
   "outputs": [
    {
     "name": "stdout",
     "output_type": "stream",
     "text": [
      "{'cherry', 'apple', 'banana'}\n"
     ]
    }
   ],
   "source": [
    "myset = {\"apple\", \"banana\", \"cherry\"}\n",
    "print(myset)"
   ]
  },
  {
   "cell_type": "code",
   "execution_count": 22,
   "id": "67333ba3",
   "metadata": {},
   "outputs": [
    {
     "name": "stdout",
     "output_type": "stream",
     "text": [
      "3.14\n"
     ]
    }
   ],
   "source": [
    "# Variable Assignment\n",
    "x = 10  # int\n",
    "y = 3.14  # float\n",
    "name = \"Alice\"  # str\n",
    "is_active = True  # bool\n",
    "\n",
    "# Type Conversion\n",
    "int_to_float = float(x)  # 10.0\n",
    "float_to_int = int(y)  # 3\n",
    "str_to_int = int(\"42\")  # 42\n",
    "\n",
    "print(y)"
   ]
  },
  {
   "cell_type": "code",
   "execution_count": 19,
   "id": "b0a7d26c",
   "metadata": {},
   "outputs": [
    {
     "name": "stdout",
     "output_type": "stream",
     "text": [
      "10\n"
     ]
    }
   ],
   "source": [
    "print(x)"
   ]
  },
  {
   "cell_type": "code",
   "execution_count": 20,
   "id": "39325076",
   "metadata": {},
   "outputs": [
    {
     "name": "stdout",
     "output_type": "stream",
     "text": [
      "10 3.14\n"
     ]
    }
   ],
   "source": [
    "print(x,y)"
   ]
  },
  {
   "cell_type": "code",
   "execution_count": 21,
   "id": "600a10b2",
   "metadata": {},
   "outputs": [
    {
     "name": "stdout",
     "output_type": "stream",
     "text": [
      "3.14\n"
     ]
    }
   ],
   "source": [
    "print(y)"
   ]
  },
  {
   "cell_type": "code",
   "execution_count": 23,
   "id": "e96f1177",
   "metadata": {},
   "outputs": [
    {
     "name": "stdout",
     "output_type": "stream",
     "text": [
      "apple\n",
      "banana\n",
      "cherry\n"
     ]
    }
   ],
   "source": [
    "# Creating a list of fruits\n",
    "fruits = [\"apple\", \"banana\", \"cherry\"]\n",
    "# Creating a list of numbers\n",
    "numbers = [1, 2, 3, 4, 5]\n",
    "\n",
    "# Accessing elements\n",
    "print(fruits[0])  # Output: apple\n",
    "print(fruits[1])  # Output: banana\n",
    "print(fruits[-1])  # Output: cherry (last element)"
   ]
  },
  {
   "cell_type": "code",
   "execution_count": 24,
   "id": "8c47819a",
   "metadata": {},
   "outputs": [
    {
     "name": "stdout",
     "output_type": "stream",
     "text": [
      "Alice\n",
      "25\n",
      "Engineer\n",
      "Not specified\n"
     ]
    }
   ],
   "source": [
    "# Creating a dictionary with curly braces\n",
    "person = {\"name\": \"Alice\", \"age\": 25, \"profession\": \"Engineer\"}\n",
    "\n",
    "# Creating a dictionary with the dict() function\n",
    "person = dict(name=\"Alice\", age=25, profession=\"Engineer\")\n",
    "\n",
    "# Creating a dictionary\n",
    "person = {\"name\": \"Alice\", \"age\": 25, \"profession\": \"Engineer\"}\n",
    "\n",
    "# Accessing values using square brackets\n",
    "print(person[\"name\"])       # Output: Alice\n",
    "print(person[\"age\"])        # Output: 25\n",
    "\n",
    "# Accessing values using the get() method\n",
    "print(person.get(\"profession\"))  # Output: Engineer\n",
    "print(person.get(\"salary\", \"Not specified\"))  # Output: Not specified (default value)"
   ]
  },
  {
   "cell_type": "code",
   "execution_count": 28,
   "id": "5a39ae2c",
   "metadata": {},
   "outputs": [
    {
     "name": "stdout",
     "output_type": "stream",
     "text": [
      "It did not work!\n"
     ]
    }
   ],
   "source": [
    "if 10 > 15:\n",
    "    print(\"It worked!\")\n",
    "else:\n",
    "    print(\"It did not work!\")\n"
   ]
  },
  {
   "cell_type": "code",
   "execution_count": 35,
   "id": "bb280468",
   "metadata": {},
   "outputs": [
    {
     "name": "stdout",
     "output_type": "stream",
     "text": [
      "yep 1\n",
      "yep 2\n",
      "yep 3\n",
      "yep 4\n",
      "yep 5\n"
     ]
    }
   ],
   "source": [
    "just_a_list = [1, 2, 3, 4, 5]\n",
    "for item in just_a_list:\n",
    "    print(\"yep\" , item)"
   ]
  },
  {
   "cell_type": "code",
   "execution_count": 1,
   "id": "bb234e07",
   "metadata": {},
   "outputs": [
    {
     "name": "stdout",
     "output_type": "stream",
     "text": [
      "1\n",
      "2\n",
      "3\n",
      "4\n",
      "5\n",
      "6\n",
      "7\n",
      "8\n",
      "9\n",
      "10\n"
     ]
    }
   ],
   "source": [
    "#Print the numbers from 1 to 10\n",
    "for i in range(1, 11):\n",
    "    print(i)"
   ]
  },
  {
   "cell_type": "code",
   "execution_count": null,
   "id": "8610e758",
   "metadata": {},
   "outputs": [],
   "source": []
  }
 ],
 "metadata": {
  "kernelspec": {
   "display_name": "base",
   "language": "python",
   "name": "python3"
  },
  "language_info": {
   "codemirror_mode": {
    "name": "ipython",
    "version": 3
   },
   "file_extension": ".py",
   "mimetype": "text/x-python",
   "name": "python",
   "nbconvert_exporter": "python",
   "pygments_lexer": "ipython3",
   "version": "3.13.5"
  }
 },
 "nbformat": 4,
 "nbformat_minor": 5
}
