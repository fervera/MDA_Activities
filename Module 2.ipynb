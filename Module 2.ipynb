{
 "cells": [
  {
   "cell_type": "markdown",
   "metadata": {},
   "source": [
    "# Variables and Data Types"
   ]
  },
  {
   "cell_type": "markdown",
   "metadata": {},
   "source": [
    "## Variables"
   ]
  },
  {
   "cell_type": "code",
   "execution_count": 2,
   "metadata": {},
   "outputs": [],
   "source": [
    "# Variable Assignment\n",
    "x = 10  # int\n",
    "y = 3.14  # float\n",
    "name = \"Alice\"  # str\n",
    "is_active = True  # bool\n",
    "\n",
    "# Type Conversion\n",
    "int_to_float = float(x)  # 10.0\n",
    "float_to_int = int(y)  # 3\n",
    "str_to_int = int(\"42\")  # 42"
   ]
  },
  {
   "cell_type": "markdown",
   "metadata": {},
   "source": [
    "### 1.\tVariable Names"
   ]
  },
  {
   "cell_type": "code",
   "execution_count": 5,
   "metadata": {},
   "outputs": [],
   "source": [
    "my_variable = 10\n",
    "_name = \"John\"\n",
    "age25 = 25"
   ]
  },
  {
   "cell_type": "code",
   "execution_count": 7,
   "metadata": {},
   "outputs": [
    {
     "ename": "SyntaxError",
     "evalue": "invalid decimal literal (2720667274.py, line 2)",
     "output_type": "error",
     "traceback": [
      "\u001b[1;36m  Cell \u001b[1;32mIn[7], line 2\u001b[1;36m\u001b[0m\n\u001b[1;33m    2nd_name = \"John\"  # Invalid: starts with a number\u001b[0m\n\u001b[1;37m    ^\u001b[0m\n\u001b[1;31mSyntaxError\u001b[0m\u001b[1;31m:\u001b[0m invalid decimal literal\n"
     ]
    }
   ],
   "source": [
    "# Invalid Variable Names\n",
    "2nd_name = \"John\"  # Invalid: starts with a number\n",
    "my-variable = 10   # Invalid: contains a hyphen\n",
    "if = 5             # Invalid: uses a Python keyword\n"
   ]
  },
  {
   "cell_type": "markdown",
   "metadata": {},
   "source": [
    "### 3.\tAssign Multiple Values"
   ]
  },
  {
   "cell_type": "code",
   "execution_count": 8,
   "metadata": {},
   "outputs": [
    {
     "name": "stdout",
     "output_type": "stream",
     "text": [
      "1\n",
      "2\n",
      "3\n"
     ]
    }
   ],
   "source": [
    "x, y, z = 1, 2, 3\n",
    "print(x)  # Output: 1\n",
    "print(y)  # Output: 2\n",
    "print(z)  # Output: 3"
   ]
  },
  {
   "cell_type": "code",
   "execution_count": 9,
   "metadata": {},
   "outputs": [
    {
     "name": "stdout",
     "output_type": "stream",
     "text": [
      "10\n",
      "10\n",
      "10\n"
     ]
    }
   ],
   "source": [
    "a = b = c = 10\n",
    "print(a)  # Output: 10\n",
    "print(b)  # Output: 10\n",
    "print(c)  # Output: 10"
   ]
  },
  {
   "cell_type": "markdown",
   "metadata": {},
   "source": [
    "### 4.\tVariable Reassignment"
   ]
  },
  {
   "cell_type": "code",
   "execution_count": 10,
   "metadata": {},
   "outputs": [
    {
     "name": "stdout",
     "output_type": "stream",
     "text": [
      "5\n",
      "10\n"
     ]
    }
   ],
   "source": [
    "x = 5\n",
    "print(x)  # Output: 5\n",
    "\n",
    "x = 10\n",
    "print(x)  # Output: 10"
   ]
  },
  {
   "cell_type": "markdown",
   "metadata": {},
   "source": [
    "### 5.\tVariable Scope"
   ]
  },
  {
   "cell_type": "code",
   "execution_count": 11,
   "metadata": {},
   "outputs": [
    {
     "name": "stdout",
     "output_type": "stream",
     "text": [
      "5\n",
      "10\n",
      "2\n"
     ]
    }
   ],
   "source": [
    "# Global variable\n",
    "x = 10\n",
    "\n",
    "def my_function():\n",
    "    # Local variable\n",
    "    y = 5\n",
    "    print(y)  # Output: 5\n",
    "\n",
    "my_function()\n",
    "print(x)  # Output: 10\n",
    "print(y)  # Error: y is not defined outside the function"
   ]
  },
  {
   "cell_type": "markdown",
   "metadata": {},
   "source": [
    "### 6.\tConstants"
   ]
  },
  {
   "cell_type": "code",
   "execution_count": 14,
   "metadata": {},
   "outputs": [],
   "source": [
    "PI = 3.14159\n",
    "GRAVITY = 9.8"
   ]
  },
  {
   "cell_type": "markdown",
   "metadata": {},
   "source": [
    "## Lists"
   ]
  },
  {
   "cell_type": "markdown",
   "metadata": {},
   "source": [
    "### 1.\tCreating a List"
   ]
  },
  {
   "cell_type": "code",
   "execution_count": 17,
   "metadata": {},
   "outputs": [],
   "source": [
    "# Creating a list of fruits\n",
    "fruits = [\"apple\", \"banana\", \"cherry\"]\n",
    "# Creating a list of numbers\n",
    "numbers = [1, 2, 3, 4, 5]\n"
   ]
  },
  {
   "cell_type": "markdown",
   "metadata": {},
   "source": [
    "### 2.\tAccessing Elements in a List"
   ]
  },
  {
   "cell_type": "code",
   "execution_count": 18,
   "metadata": {},
   "outputs": [
    {
     "name": "stdout",
     "output_type": "stream",
     "text": [
      "apple\n",
      "banana\n",
      "cherry\n"
     ]
    }
   ],
   "source": [
    "# Accessing elements\n",
    "print(fruits[0])  # Output: apple\n",
    "print(fruits[1])  # Output: banana\n",
    "print(fruits[-1])  # Output: cherry (last element)"
   ]
  },
  {
   "cell_type": "code",
   "execution_count": 19,
   "metadata": {},
   "outputs": [
    {
     "name": "stdout",
     "output_type": "stream",
     "text": [
      "['apple', 'banana']\n",
      "['apple', 'banana']\n",
      "['banana', 'cherry', 'date']\n",
      "['banana', 'cherry']\n"
     ]
    }
   ],
   "source": [
    "# Slicing a list\n",
    "fruits = [\"apple\", \"banana\", \"cherry\", \"date\"]\n",
    "\n",
    "print(fruits[0:2])  # Output: ['apple', 'banana'] (elements from index 0 to 1)\n",
    "print(fruits[:2])   # Output: ['apple', 'banana'] (first two elements)\n",
    "print(fruits[1:])   # Output: ['banana', 'cherry', 'date'] (from index 1 to the end)\n",
    "print(fruits[1:3])  # Output: ['banana', 'cherry'] (elements from index 1 to 2)"
   ]
  },
  {
   "cell_type": "code",
   "execution_count": 20,
   "metadata": {},
   "outputs": [
    {
     "name": "stdout",
     "output_type": "stream",
     "text": [
      "['banana', 'cherry']\n",
      "['banana', 'cherry', 'date']\n",
      "['apple', 'banana', 'cherry']\n",
      "['apple', 'banana']\n"
     ]
    }
   ],
   "source": [
    "# Slicing a list with negative indexes\n",
    "fruits = [\"apple\", \"banana\", \"cherry\", \"date\"]\n",
    "\n",
    "print(fruits[-3:-1])  # Output: ['banana', 'cherry'] (elements from third to last to second to last)\n",
    "print(fruits[-3:])    # Output: ['banana', 'cherry', 'date'] (elements from third to last to the end)\n",
    "print(fruits[:-1])    # Output: ['apple', 'banana', 'cherry'] (all elements except the last one)\n",
    "print(fruits[-4:-2])  # Output: ['apple', 'banana'] (elements from fourth to last to third to last)"
   ]
  },
  {
   "cell_type": "markdown",
   "metadata": {},
   "source": [
    "### 3.\tModifying Lists"
   ]
  },
  {
   "cell_type": "code",
   "execution_count": 22,
   "metadata": {},
   "outputs": [
    {
     "name": "stdout",
     "output_type": "stream",
     "text": [
      "['apple', 'blueberry', 'cherry', 'date']\n",
      "['apple', 'blueberry', 'cherry', 'date', 'orange']\n",
      "['apple', 'cherry', 'date', 'orange']\n"
     ]
    }
   ],
   "source": [
    "# Accessing elements\n",
    "# Changing an element\n",
    "fruits[1] = \"blueberry\"\n",
    "print(fruits)  # Output: ['apple', 'blueberry', 'cherry']\n",
    "\n",
    "# Adding elements\n",
    "fruits.append(\"orange\")\n",
    "print(fruits)  # Output: ['apple', 'blueberry', 'cherry', 'orange']\n",
    "\n",
    "# Removing elements\n",
    "fruits.remove(\"blueberry\")\n",
    "print(fruits)  # Output: ['apple', 'cherry', 'orange']"
   ]
  },
  {
   "cell_type": "markdown",
   "metadata": {},
   "source": [
    "### 4.\tData Types in a List"
   ]
  },
  {
   "cell_type": "code",
   "execution_count": 23,
   "metadata": {},
   "outputs": [
    {
     "name": "stdout",
     "output_type": "stream",
     "text": [
      "[1, 'apple', 3.14, True]\n",
      "[[1, 2, 3], ['a', 'b', 'c']]\n"
     ]
    }
   ],
   "source": [
    "# Accessing elements\n",
    "# List with mixed data types\n",
    "mixed_list = [1, \"apple\", 3.14, True]\n",
    "print(mixed_list)  # Output: [1, 'apple', 3.14, True]\n",
    "\n",
    "# List of lists\n",
    "nested_list = [[1, 2, 3], [\"a\", \"b\", \"c\"]]\n",
    "print(nested_list)  # Output: [[1, 2, 3], ['a', 'b', 'c']]"
   ]
  },
  {
   "cell_type": "markdown",
   "metadata": {},
   "source": [
    "### 5.\tCommon List Methods"
   ]
  },
  {
   "cell_type": "code",
   "execution_count": 24,
   "metadata": {},
   "outputs": [
    {
     "name": "stdout",
     "output_type": "stream",
     "text": [
      "['apple', 'cherry', 'date', 'orange', 'grape']\n",
      "['apple', 'cherry', 'date', 'grape']\n",
      "grape\n",
      "['apple', 'cherry', 'date']\n",
      "['apple', 'cherry', 'date', 'kiwi', 'mango']\n",
      "1\n",
      "['apple', 'cherry', 'date', 'kiwi', 'mango']\n",
      "['mango', 'kiwi', 'date', 'cherry', 'apple']\n",
      "['mango', 'kiwi', 'blueberry', 'date', 'cherry', 'apple']\n",
      "['mango', 'blueberry', 'date', 'cherry', 'apple']\n",
      "[]\n"
     ]
    }
   ],
   "source": [
    "# Using append() to add an element\n",
    "fruits.append(\"grape\")\n",
    "print(fruits)  # Output: ['apple', 'cherry', 'orange', 'grape']\n",
    "\n",
    "# Using remove() to remove an element\n",
    "fruits.remove(\"orange\")\n",
    "print(fruits)  # Output: ['apple', 'cherry', 'grape']\n",
    "\n",
    "# Using pop() to remove and return the last element\n",
    "last_fruit = fruits.pop()\n",
    "print(last_fruit)  # Output: grape\n",
    "print(fruits)      # Output: ['apple', 'cherry']\n",
    "\n",
    "# Using extend() to add multiple elements\n",
    "fruits.extend([\"kiwi\", \"mango\"])\n",
    "print(fruits)  # Output: ['apple', 'cherry', 'kiwi', 'mango']\n",
    "\n",
    "# Using index() to find the position of an element\n",
    "index = fruits.index(\"cherry\")\n",
    "print(index)  # Output: 1\n",
    "\n",
    "# Using sort() to sort the list\n",
    "fruits.sort()\n",
    "print(fruits)  # Output: ['apple', 'cherry', 'kiwi', 'mango']\n",
    "\n",
    "# Using reverse() to reverse the list\n",
    "fruits.reverse()\n",
    "print(fruits)  # Output: ['mango', 'kiwi', 'cherry', 'apple']\n",
    "\n",
    "# Using insert() to add an element at a specific position\n",
    "fruits.insert(2, \"blueberry\")\n",
    "print(fruits)  # Output: ['mango', 'kiwi', 'blueberry', 'cherry', 'apple']\n",
    "\n",
    "# Using del to remove an element by index\n",
    "del fruits[1]\n",
    "print(fruits)  # Output: ['mango', 'blueberry', 'cherry', 'apple']\n",
    "\n",
    "# Using clear() to remove all elements\n",
    "fruits.clear()\n",
    "print(fruits)  # Output: []"
   ]
  },
  {
   "cell_type": "markdown",
   "metadata": {},
   "source": [
    "## Tuples"
   ]
  },
  {
   "cell_type": "markdown",
   "metadata": {},
   "source": [
    "### 1.\tCreating a Tuple"
   ]
  },
  {
   "cell_type": "code",
   "execution_count": 26,
   "metadata": {},
   "outputs": [],
   "source": [
    "# Creating a tuple with different data types\n",
    "person = (\"Alice\", 25, \"Engineer\")\n",
    "\n",
    "# Creating a tuple with numbers\n",
    "numbers = (1, 2, 3, 4, 5)"
   ]
  },
  {
   "cell_type": "markdown",
   "metadata": {},
   "source": [
    "### 2.\tAccessing Elements in a Tuple"
   ]
  },
  {
   "cell_type": "code",
   "execution_count": 28,
   "metadata": {},
   "outputs": [
    {
     "name": "stdout",
     "output_type": "stream",
     "text": [
      "Alice\n",
      "25\n",
      "Engineer\n"
     ]
    }
   ],
   "source": [
    "# Accessing elements\n",
    "person = (\"Alice\", 25, \"Engineer\")\n",
    "\n",
    "print(person[0])  # Output: Alice\n",
    "print(person[1])  # Output: 25\n",
    "print(person[-1])  # Output: Engineer (last element)"
   ]
  },
  {
   "cell_type": "code",
   "execution_count": 29,
   "metadata": {},
   "outputs": [
    {
     "name": "stdout",
     "output_type": "stream",
     "text": [
      "(2, 3, 4)\n",
      "(1, 2, 3)\n",
      "(3, 4, 5)\n",
      "(3, 4, 5)\n"
     ]
    }
   ],
   "source": [
    "# Slicing a tuple\n",
    "numbers = (1, 2, 3, 4, 5)\n",
    "\n",
    "print(numbers[1:4])  # Output: (2, 3, 4) (elements from index 1 to 3)\n",
    "print(numbers[:3])   # Output: (1, 2, 3) (first three elements)\n",
    "print(numbers[2:])   # Output: (3, 4, 5) (from index 2 to the end)\n",
    "print(numbers[-3:])  # Output: (3, 4, 5) (last three elements)"
   ]
  },
  {
   "cell_type": "markdown",
   "metadata": {},
   "source": [
    "### 3.\tTuples are Immutable"
   ]
  },
  {
   "cell_type": "code",
   "execution_count": 30,
   "metadata": {},
   "outputs": [],
   "source": [
    "# Creating a tuple\n",
    "fruits = (\"apple\", \"banana\", \"cherry\")\n",
    "\n",
    "# Trying to change an element will cause an error\n",
    "# fruits[1] = \"blueberry\"  # This will raise a TypeError\n",
    "\n",
    "# Trying to add an element will cause an error\n",
    "# fruits.append(\"orange\")  # This will raise an AttributeError\n",
    "\n",
    "# Trying to remove an element will cause an error\n",
    "# fruits.remove(\"banana\")  # This will raise an AttributeError"
   ]
  },
  {
   "cell_type": "code",
   "execution_count": 31,
   "metadata": {},
   "outputs": [
    {
     "name": "stdout",
     "output_type": "stream",
     "text": [
      "('blueberry', 'cherry', 'orange')\n"
     ]
    }
   ],
   "source": [
    "# Creating a tuple\n",
    "fruits = (\"apple\", \"banana\", \"cherry\")\n",
    "\n",
    "# Converting the tuple to a list\n",
    "fruits_list = list(fruits)\n",
    "\n",
    "# Modifying the list\n",
    "fruits_list[1] = \"blueberry\"  # Changing an element\n",
    "fruits_list.append(\"orange\")  # Adding an element\n",
    "fruits_list.remove(\"apple\")   # Removing an element\n",
    "\n",
    "# Converting the list back to a tuple\n",
    "fruits = tuple(fruits_list)\n",
    "print(fruits)  # Output: ('blueberry', 'cherry', 'orange')"
   ]
  },
  {
   "cell_type": "markdown",
   "metadata": {},
   "source": [
    "### 4.\tUnpacking Tuples"
   ]
  },
  {
   "cell_type": "code",
   "execution_count": 32,
   "metadata": {},
   "outputs": [
    {
     "name": "stdout",
     "output_type": "stream",
     "text": [
      "Alice\n",
      "25\n",
      "Engineer\n"
     ]
    }
   ],
   "source": [
    "# Creating a tuple\n",
    "person = (\"Alice\", 25, \"Engineer\")\n",
    "\n",
    "# Unpacking the tuple into variables\n",
    "name, age, profession = person\n",
    "\n",
    "print(name)       # Output: Alice\n",
    "print(age)        # Output: 25\n",
    "print(profession) # Output: Engineer"
   ]
  },
  {
   "cell_type": "code",
   "execution_count": 33,
   "metadata": {},
   "outputs": [
    {
     "name": "stdout",
     "output_type": "stream",
     "text": [
      "Alice\n",
      "25\n",
      "Engineer\n"
     ]
    }
   ],
   "source": [
    "# Creating a nested tuple\n",
    "nested_tuple = (\"Alice\", (25, \"Engineer\"))\n",
    "\n",
    "# Unpacking the nested tuple\n",
    "name, (age, profession) = nested_tuple\n",
    "\n",
    "print(name)       # Output: Alice\n",
    "print(age)        # Output: 25\n",
    "print(profession) # Output: Engineer"
   ]
  },
  {
   "cell_type": "markdown",
   "metadata": {},
   "source": [
    "### 5.\tLooping Through Tuples"
   ]
  },
  {
   "cell_type": "code",
   "execution_count": 35,
   "metadata": {},
   "outputs": [
    {
     "name": "stdout",
     "output_type": "stream",
     "text": [
      "apple\n",
      "banana\n",
      "cherry\n"
     ]
    }
   ],
   "source": [
    "# Creating a tuple\n",
    "fruits = (\"apple\", \"banana\", \"cherry\")\n",
    "\n",
    "# Looping through the tuple\n",
    "for fruit in fruits:\n",
    "    print(fruit)\n",
    "# Output:\n",
    "# apple\n",
    "# banana\n",
    "# cherry"
   ]
  },
  {
   "cell_type": "code",
   "execution_count": 36,
   "metadata": {},
   "outputs": [
    {
     "name": "stdout",
     "output_type": "stream",
     "text": [
      "Index: 0, Fruit: apple\n",
      "Index: 1, Fruit: banana\n",
      "Index: 2, Fruit: cherry\n"
     ]
    }
   ],
   "source": [
    "# Creating a tuple\n",
    "fruits = (\"apple\", \"banana\", \"cherry\")\n",
    "\n",
    "# Looping through the tuple with index\n",
    "for index, fruit in enumerate(fruits):\n",
    "    print(f\"Index: {index}, Fruit: {fruit}\")\n",
    "# Output:\n",
    "# Index: 0, Fruit: apple\n",
    "# Index: 1, Fruit: banana\n",
    "# Index: 2, Fruit: cherry"
   ]
  },
  {
   "cell_type": "markdown",
   "metadata": {},
   "source": [
    "## Sets"
   ]
  },
  {
   "cell_type": "markdown",
   "metadata": {},
   "source": [
    "### 1.\tCreating a Set"
   ]
  },
  {
   "cell_type": "code",
   "execution_count": 37,
   "metadata": {},
   "outputs": [],
   "source": [
    "# Creating a set with curly braces\n",
    "fruits = {\"apple\", \"banana\", \"cherry\"}\n",
    "\n",
    "# Creating a set with the set() function\n",
    "numbers = set([1, 2, 3, 4, 5])"
   ]
  },
  {
   "cell_type": "markdown",
   "metadata": {},
   "source": [
    "### 2.\tCharacteristics of Sets"
   ]
  },
  {
   "cell_type": "code",
   "execution_count": 38,
   "metadata": {},
   "outputs": [
    {
     "name": "stdout",
     "output_type": "stream",
     "text": [
      "{1, 2, 3, 4}\n"
     ]
    }
   ],
   "source": [
    "# Sets do not allow duplicate elements\n",
    "unique_numbers = {1, 2, 3, 3, 4}\n",
    "print(unique_numbers)  # Output: {1, 2, 3, 4}"
   ]
  },
  {
   "cell_type": "markdown",
   "metadata": {},
   "source": [
    "### 3.\tAdding and Removing Elements"
   ]
  },
  {
   "cell_type": "code",
   "execution_count": 40,
   "metadata": {},
   "outputs": [
    {
     "name": "stdout",
     "output_type": "stream",
     "text": [
      "{'orange', 'cherry', 'apple', 'banana'}\n",
      "{'orange', 'cherry', 'apple'}\n",
      "{'orange', 'apple'}\n"
     ]
    }
   ],
   "source": [
    "# Creating a set\n",
    "fruits = {\"apple\", \"banana\", \"cherry\"}\n",
    "\n",
    "# Adding an element\n",
    "fruits.add(\"orange\")\n",
    "print(fruits)  # Output: {'apple', 'banana', 'cherry', 'orange'}\n",
    "\n",
    "# Removing an element using remove()\n",
    "fruits.remove(\"banana\")\n",
    "print(fruits)  # Output: {'apple', 'cherry', 'orange'}\n",
    "\n",
    "# Removing an element using discard()\n",
    "fruits.discard(\"cherry\")\n",
    "print(fruits)  # Output: {'apple', 'orange'}"
   ]
  },
  {
   "cell_type": "code",
   "execution_count": 42,
   "metadata": {},
   "outputs": [
    {
     "name": "stdout",
     "output_type": "stream",
     "text": [
      "{'orange', 'cherry', 'apple', 'banana'}\n",
      "{'grape', 'cherry', 'mango', 'orange', 'apple', 'banana'}\n",
      "{'kiwi', 'grape', 'cherry', 'mango', 'peach', 'orange', 'apple', 'banana'}\n"
     ]
    }
   ],
   "source": [
    "# Creating a set\n",
    "fruits = {\"apple\", \"banana\"}\n",
    "\n",
    "# Adding multiple elements using update()\n",
    "fruits.update([\"cherry\", \"orange\"])\n",
    "print(fruits)  # Output: {'apple', 'banana', 'cherry', 'orange'}\n",
    "\n",
    "# Adding elements from another set\n",
    "more_fruits = {\"grape\", \"mango\"}\n",
    "fruits.update(more_fruits)\n",
    "print(fruits)  # Output: {'apple', 'banana', 'cherry', 'orange', 'grape', 'mango'}\n",
    "\n",
    "# Adding elements from a tuple\n",
    "fruits.update((\"kiwi\", \"peach\"))\n",
    "print(fruits)  # Output: {'apple', 'banana', 'cherry', 'orange', 'grape', 'mango', 'kiwi', 'peach'}"
   ]
  },
  {
   "cell_type": "markdown",
   "metadata": {},
   "source": [
    "### 4.\tSet Operations"
   ]
  },
  {
   "cell_type": "markdown",
   "metadata": {},
   "source": [
    "#### 1)\tUnion"
   ]
  },
  {
   "cell_type": "code",
   "execution_count": 44,
   "metadata": {},
   "outputs": [
    {
     "name": "stdout",
     "output_type": "stream",
     "text": [
      "{1, 2, 3, 4, 5}\n"
     ]
    }
   ],
   "source": [
    "set1 = {1, 2, 3}\n",
    "set2 = {3, 4, 5}\n",
    "\n",
    "union_set = set1.union(set2)\n",
    "print(union_set)  # Output: {1, 2, 3, 4, 5}"
   ]
  },
  {
   "cell_type": "markdown",
   "metadata": {},
   "source": [
    "#### 2)\tIntersection"
   ]
  },
  {
   "cell_type": "code",
   "execution_count": 45,
   "metadata": {},
   "outputs": [
    {
     "name": "stdout",
     "output_type": "stream",
     "text": [
      "{3}\n"
     ]
    }
   ],
   "source": [
    "set1 = {1, 2, 3}\n",
    "set2 = {3, 4, 5}\n",
    "\n",
    "intersection_set = set1.intersection(set2)\n",
    "print(intersection_set)  # Output: {3}"
   ]
  },
  {
   "cell_type": "markdown",
   "metadata": {},
   "source": [
    "#### 3)\tDifference"
   ]
  },
  {
   "cell_type": "code",
   "execution_count": 46,
   "metadata": {},
   "outputs": [
    {
     "name": "stdout",
     "output_type": "stream",
     "text": [
      "{1, 2}\n"
     ]
    }
   ],
   "source": [
    "set1 = {1, 2, 3}\n",
    "set2 = {3, 4, 5}\n",
    "\n",
    "difference_set = set1.difference(set2)\n",
    "print(difference_set)  # Output: {1, 2}"
   ]
  },
  {
   "cell_type": "markdown",
   "metadata": {},
   "source": [
    "#### 4)\tSymmetric Difference"
   ]
  },
  {
   "cell_type": "code",
   "execution_count": 47,
   "metadata": {},
   "outputs": [
    {
     "name": "stdout",
     "output_type": "stream",
     "text": [
      "{1, 2, 4, 5}\n"
     ]
    }
   ],
   "source": [
    "set1 = {1, 2, 3}\n",
    "set2 = {3, 4, 5}\n",
    "\n",
    "symmetric_difference_set = set1.symmetric_difference(set2)\n",
    "print(symmetric_difference_set)  # Output: {1, 2, 4, 5}"
   ]
  },
  {
   "cell_type": "markdown",
   "metadata": {},
   "source": [
    "## Dictionaries"
   ]
  },
  {
   "cell_type": "markdown",
   "metadata": {},
   "source": [
    "### 1.\tCreating a Dictionary"
   ]
  },
  {
   "cell_type": "code",
   "execution_count": 50,
   "metadata": {},
   "outputs": [],
   "source": [
    "# Creating a dictionary with curly braces\n",
    "person = {\"name\": \"Alice\", \"age\": 25, \"profession\": \"Engineer\"}\n",
    "\n",
    "# Creating a dictionary with the dict() function\n",
    "person = dict(name=\"Alice\", age=25, profession=\"Engineer\")"
   ]
  },
  {
   "cell_type": "markdown",
   "metadata": {},
   "source": [
    "### 2.\tAccessing Values in a Dictionary"
   ]
  },
  {
   "cell_type": "code",
   "execution_count": 51,
   "metadata": {},
   "outputs": [
    {
     "name": "stdout",
     "output_type": "stream",
     "text": [
      "Alice\n",
      "25\n",
      "Engineer\n",
      "Not specified\n"
     ]
    }
   ],
   "source": [
    "# Creating a dictionary\n",
    "person = {\"name\": \"Alice\", \"age\": 25, \"profession\": \"Engineer\"}\n",
    "\n",
    "# Accessing values using square brackets\n",
    "print(person[\"name\"])       # Output: Alice\n",
    "print(person[\"age\"])        # Output: 25\n",
    "\n",
    "# Accessing values using the get() method\n",
    "print(person.get(\"profession\"))  # Output: Engineer\n",
    "print(person.get(\"salary\", \"Not specified\"))  # Output: Not specified (default value)"
   ]
  },
  {
   "cell_type": "markdown",
   "metadata": {},
   "source": [
    "### 3.\tGetting Keys, Values, and Items"
   ]
  },
  {
   "cell_type": "code",
   "execution_count": 53,
   "metadata": {},
   "outputs": [
    {
     "name": "stdout",
     "output_type": "stream",
     "text": [
      "dict_keys(['name', 'age', 'profession'])\n",
      "dict_values(['Alice', 25, 'Engineer'])\n",
      "dict_items([('name', 'Alice'), ('age', 25), ('profession', 'Engineer')])\n"
     ]
    }
   ],
   "source": [
    "# Creating a dictionary\n",
    "person = {\"name\": \"Alice\", \"age\": 25, \"profession\": \"Engineer\"}\n",
    "\n",
    "# Getting all keys\n",
    "keys = person.keys()\n",
    "print(keys)  # Output: dict_keys(['name', 'age', 'profession'])\n",
    "\n",
    "# Getting all values\n",
    "values = person.values()\n",
    "print(values)  # Output: dict_values(['Alice', 25, 'Engineer'])\n",
    "\n",
    "# Getting all key-value pairs\n",
    "items = person.items()\n",
    "print(items)  # Output: dict_items([('name', 'Alice'), ('age', 25), ('profession', 'Engineer')])"
   ]
  },
  {
   "cell_type": "markdown",
   "metadata": {},
   "source": [
    "### 4.\tAdding and Updating Elements"
   ]
  },
  {
   "cell_type": "code",
   "execution_count": 55,
   "metadata": {},
   "outputs": [
    {
     "name": "stdout",
     "output_type": "stream",
     "text": [
      "{'name': 'Alice', 'age': 25, 'profession': 'Engineer'}\n",
      "{'name': 'Alice', 'age': 26, 'profession': 'Engineer'}\n",
      "{'name': 'Alice', 'age': 27, 'profession': 'Engineer', 'salary': 50000}\n"
     ]
    }
   ],
   "source": [
    "# Creating a dictionary\n",
    "person = {\"name\": \"Alice\", \"age\": 25}\n",
    "\n",
    "# Adding a new key-value pair\n",
    "person[\"profession\"] = \"Engineer\"\n",
    "print(person)  # Output: {'name': 'Alice', 'age': 25, 'profession': 'Engineer'}\n",
    "\n",
    "# Updating the value of an existing key\n",
    "person[\"age\"] = 26\n",
    "print(person)  # Output: {'name': 'Alice', 'age': 26, 'profession': 'Engineer'}\n",
    "\n",
    "# Using update() to add multiple elements\n",
    "person.update({\"age\": 27, \"salary\": 50000})\n",
    "print(person)  # Output: {'name': 'Alice', 'age': 27, 'profession': 'Engineer', 'salary': 50000}"
   ]
  },
  {
   "cell_type": "markdown",
   "metadata": {},
   "source": [
    "### 5.\tRemoving Elements"
   ]
  },
  {
   "cell_type": "code",
   "execution_count": 57,
   "metadata": {},
   "outputs": [
    {
     "name": "stdout",
     "output_type": "stream",
     "text": [
      "{'name': 'Alice', 'age': 25}\n",
      "25\n",
      "{'name': 'Alice'}\n",
      "('age', 25)\n",
      "{'name': 'Alice'}\n"
     ]
    }
   ],
   "source": [
    "# Creating a dictionary\n",
    "person = {\"name\": \"Alice\", \"age\": 25, \"profession\": \"Engineer\"}\n",
    "\n",
    "# Removing an element using del\n",
    "del person[\"profession\"]\n",
    "print(person)  # Output: {'name': 'Alice', 'age': 25}\n",
    "\n",
    "# Removing an element using pop()\n",
    "age = person.pop(\"age\")\n",
    "print(age)     # Output: 25\n",
    "print(person)  # Output: {'name': 'Alice'}\n",
    "\n",
    "# 0\n",
    "person[\"age\"] = 25\n",
    "last_item = person.popitem()\n",
    "print(last_item)  # Output: ('age', 25)\n",
    "print(person)     # Output: {'name': 'Alice'}"
   ]
  },
  {
   "cell_type": "markdown",
   "metadata": {},
   "source": [
    "### 6.\tNested Dictionaries"
   ]
  },
  {
   "cell_type": "code",
   "execution_count": 59,
   "metadata": {},
   "outputs": [
    {
     "name": "stdout",
     "output_type": "stream",
     "text": [
      "Alice\n",
      "['History', 'Art']\n"
     ]
    }
   ],
   "source": [
    "# Creating a nested dictionary\n",
    "students = {\n",
    "    \"student1\": {\n",
    "        \"name\": \"Alice\",\n",
    "        \"age\": 24,\n",
    "        \"courses\": [\"Math\", \"Science\"]\n",
    "    },\n",
    "    \"student2\": {\n",
    "        \"name\": \"Bob\",\n",
    "        \"age\": 22,\n",
    "        \"courses\": [\"History\", \"Art\"]\n",
    "    }\n",
    "}\n",
    "\n",
    "# Accessing elements in a nested dictionary\n",
    "print(students[\"student1\"][\"name\"])   # Output: Alice\n",
    "print(students[\"student2\"][\"courses\"])  # Output: ['History', 'Art']"
   ]
  },
  {
   "cell_type": "markdown",
   "metadata": {},
   "source": [
    "# Python Operators"
   ]
  },
  {
   "cell_type": "markdown",
   "metadata": {},
   "source": [
    "## Operators"
   ]
  },
  {
   "cell_type": "markdown",
   "metadata": {},
   "source": [
    "### Arithmetic Operators"
   ]
  },
  {
   "cell_type": "code",
   "execution_count": 63,
   "metadata": {},
   "outputs": [
    {
     "name": "stdout",
     "output_type": "stream",
     "text": [
      "15\n",
      "5\n",
      "50\n",
      "2.0\n",
      "0\n",
      "100000\n",
      "2\n"
     ]
    }
   ],
   "source": [
    "# Arithmetic Operators\n",
    "a = 10\n",
    "b = 5\n",
    "\n",
    "print(a + b)  # Addition: Output: 15\n",
    "print(a - b)  # Subtraction: Output: 5\n",
    "print(a * b)  # Multiplication: Output: 50\n",
    "print(a / b)  # Division: Output: 2.0\n",
    "print(a % b)  # Modulus (remainder): Output: 0\n",
    "print(a ** b)  # Exponentiation: Output: 100000\n",
    "print(a // b)  # Floor Division: Output: 2"
   ]
  },
  {
   "cell_type": "markdown",
   "metadata": {},
   "source": [
    "### Comparison Operators"
   ]
  },
  {
   "cell_type": "code",
   "execution_count": 65,
   "metadata": {},
   "outputs": [
    {
     "name": "stdout",
     "output_type": "stream",
     "text": [
      "False\n",
      "True\n",
      "True\n",
      "False\n",
      "True\n",
      "False\n"
     ]
    }
   ],
   "source": [
    "# Comparison Operators\n",
    "a = 10\n",
    "b = 5\n",
    "\n",
    "print(a == b)  # Equal: Output: False\n",
    "print(a != b)  # Not equal: Output: True\n",
    "print(a > b)  # Greater than: Output: True\n",
    "print(a < b)  # Less than: Output: False\n",
    "print(a >= b)  # Greater than or equal to: Output: True\n",
    "print(a <= b)  # Less than or equal to: Output: False"
   ]
  },
  {
   "cell_type": "markdown",
   "metadata": {},
   "source": [
    "### Logical Operators"
   ]
  },
  {
   "cell_type": "code",
   "execution_count": 67,
   "metadata": {},
   "outputs": [
    {
     "name": "stdout",
     "output_type": "stream",
     "text": [
      "False\n",
      "True\n",
      "False\n"
     ]
    }
   ],
   "source": [
    "# Logical Operators\n",
    "a = True\n",
    "b = False\n",
    "\n",
    "print(a and b)  # Logical AND: Output: False\n",
    "print(a or b)  # Logical OR: Output: True\n",
    "print(not a)  # Logical NOT: Output: False"
   ]
  },
  {
   "cell_type": "markdown",
   "metadata": {},
   "source": [
    "### Assignment Operators"
   ]
  },
  {
   "cell_type": "code",
   "execution_count": 69,
   "metadata": {},
   "outputs": [],
   "source": [
    "# Assignment Operators\n",
    "a = 10  # Assign: Output: 10\n",
    "a += 5  # Add and assign: a = a + 5, Output: 15\n",
    "a -= 5  # Subtract and assign: a = a - 5, Output: 10\n",
    "a *= 2  # Multiply and assign: a = a * 2, Output: 20\n",
    "a /= 2  # Divide and assign: a = a / 2, Output: 10.0\n",
    "a %= 3  # Modulus and assign: a = a % 3, Output: 1.0\n",
    "a **= 2  # Exponentiation and assign: a = a ** 2, Output: 1.0\n",
    "a //= 2  # Floor division and assign: a = a // 2, Output: 0.0"
   ]
  },
  {
   "cell_type": "markdown",
   "metadata": {},
   "source": [
    "### Membership Operators"
   ]
  },
  {
   "cell_type": "code",
   "execution_count": 71,
   "metadata": {},
   "outputs": [
    {
     "name": "stdout",
     "output_type": "stream",
     "text": [
      "True\n",
      "True\n"
     ]
    }
   ],
   "source": [
    "# Membership Operators\n",
    "fruits = [\"apple\", \"banana\", \"cherry\"]\n",
    "\n",
    "print(\"banana\" in fruits)  # Output: True\n",
    "print(\"grape\" not in fruits)  # Output: True"
   ]
  },
  {
   "cell_type": "markdown",
   "metadata": {},
   "source": [
    "### Identity Operators"
   ]
  },
  {
   "cell_type": "code",
   "execution_count": 72,
   "metadata": {},
   "outputs": [
    {
     "name": "stdout",
     "output_type": "stream",
     "text": [
      "False\n",
      "True\n",
      "True\n"
     ]
    }
   ],
   "source": [
    "# Identity Operators\n",
    "a = [\"apple\", \"banana\"]\n",
    "b = [\"apple\", \"banana\"]\n",
    "c = a\n",
    "\n",
    "print(a is b)  # Output: False (different objects)\n",
    "print(a is c)  # Output: True (same object)\n",
    "print(a == b)  # Output: True (same content)"
   ]
  },
  {
   "cell_type": "markdown",
   "metadata": {},
   "source": [
    "# Python Statements"
   ]
  },
  {
   "cell_type": "markdown",
   "metadata": {},
   "source": [
    "## Statements"
   ]
  },
  {
   "cell_type": "markdown",
   "metadata": {},
   "source": [
    "### Conditional Statements"
   ]
  },
  {
   "cell_type": "code",
   "execution_count": 76,
   "metadata": {},
   "outputs": [
    {
     "name": "stdout",
     "output_type": "stream",
     "text": [
      "x is greater than 5\n"
     ]
    }
   ],
   "source": [
    "# Conditional statements\n",
    "x = 10\n",
    "\n",
    "if x > 5:\n",
    "    print(\"x is greater than 5\")\n",
    "elif x == 5:\n",
    "    print(\"x is equal to 5\")\n",
    "else:\n",
    "    print(\"x is less than 5\")"
   ]
  },
  {
   "cell_type": "markdown",
   "metadata": {},
   "source": [
    "### Loop Statements"
   ]
  },
  {
   "cell_type": "markdown",
   "metadata": {},
   "source": [
    "#### For loop"
   ]
  },
  {
   "cell_type": "code",
   "execution_count": 79,
   "metadata": {},
   "outputs": [
    {
     "name": "stdout",
     "output_type": "stream",
     "text": [
      "apple\n",
      "banana\n",
      "cherry\n"
     ]
    }
   ],
   "source": [
    "# For loop\n",
    "fruits = [\"apple\", \"banana\", \"cherry\"]\n",
    "\n",
    "for fruit in fruits:\n",
    "    print(fruit)\n",
    "# Output:\n",
    "# apple\n",
    "# banana\n",
    "# cherry"
   ]
  },
  {
   "cell_type": "markdown",
   "metadata": {},
   "source": [
    "#### While Loop"
   ]
  },
  {
   "cell_type": "code",
   "execution_count": 81,
   "metadata": {},
   "outputs": [
    {
     "name": "stdout",
     "output_type": "stream",
     "text": [
      "0\n",
      "1\n",
      "2\n",
      "3\n",
      "4\n"
     ]
    }
   ],
   "source": [
    "# While loop\n",
    "count = 0\n",
    "\n",
    "while count < 5:\n",
    "    print(count)\n",
    "    count += 1\n",
    "# Output:\n",
    "# 0\n",
    "# 1\n",
    "# 2\n",
    "# 3\n",
    "# 4"
   ]
  },
  {
   "cell_type": "markdown",
   "metadata": {},
   "source": [
    "### Control Statements"
   ]
  },
  {
   "cell_type": "markdown",
   "metadata": {},
   "source": [
    "#### Break Statement"
   ]
  },
  {
   "cell_type": "code",
   "execution_count": 84,
   "metadata": {},
   "outputs": [
    {
     "name": "stdout",
     "output_type": "stream",
     "text": [
      "0\n",
      "1\n",
      "2\n",
      "3\n",
      "4\n"
     ]
    }
   ],
   "source": [
    "# Break statement\n",
    "for i in range(10):\n",
    "    if i == 5:\n",
    "        break\n",
    "    print(i)\n",
    "# Output:\n",
    "# 0\n",
    "# 1\n",
    "# 2\n",
    "# 3\n",
    "# 4"
   ]
  },
  {
   "cell_type": "markdown",
   "metadata": {},
   "source": [
    "#### Continue Statement"
   ]
  },
  {
   "cell_type": "code",
   "execution_count": 86,
   "metadata": {},
   "outputs": [
    {
     "name": "stdout",
     "output_type": "stream",
     "text": [
      "1\n",
      "3\n",
      "5\n",
      "7\n",
      "9\n"
     ]
    }
   ],
   "source": [
    "# Continue statement\n",
    "for i in range(10):\n",
    "    if i % 2 == 0:\n",
    "        continue\n",
    "    print(i)\n",
    "# Output:\n",
    "# 1\n",
    "# 3\n",
    "# 5\n",
    "# 7\n",
    "# 9"
   ]
  },
  {
   "cell_type": "code",
   "execution_count": null,
   "metadata": {},
   "outputs": [],
   "source": []
  }
 ],
 "metadata": {
  "kernelspec": {
   "display_name": "base",
   "language": "python",
   "name": "python3"
  },
  "language_info": {
   "codemirror_mode": {
    "name": "ipython",
    "version": 3
   },
   "file_extension": ".py",
   "mimetype": "text/x-python",
   "name": "python",
   "nbconvert_exporter": "python",
   "pygments_lexer": "ipython3",
   "version": "3.11.7"
  }
 },
 "nbformat": 4,
 "nbformat_minor": 2
}
