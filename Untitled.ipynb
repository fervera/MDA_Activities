{
 "cells": [
  {
   "cell_type": "code",
   "execution_count": null,
   "id": "17c132a8-260b-496b-bdcb-bbcbff5c327c",
   "metadata": {},
   "outputs": [],
   "source": []
  }
 ],
 "metadata": {
  "kernelspec": {
   "display_name": "",
   "name": ""
  },
  "language_info": {
   "name": ""
  }
 },
 "nbformat": 4,
 "nbformat_minor": 5
}
