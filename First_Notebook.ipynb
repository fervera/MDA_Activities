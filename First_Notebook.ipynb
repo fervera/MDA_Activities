{
 "cells": [
  {
   "cell_type": "code",
   "execution_count": 3,
   "id": "0e29aefb",
   "metadata": {},
   "outputs": [
    {
     "name": "stdout",
     "output_type": "stream",
     "text": [
      "Hello, world!\n"
     ]
    }
   ],
   "source": [
    "print(\"Hello, world!\")"
   ]
  },
  {
   "cell_type": "markdown",
   "id": "cdbe2585",
   "metadata": {},
   "source": [
    "It's a simple Python program that prints \"Hello, world!\" to the console."
   ]
  },
  {
   "cell_type": "code",
   "execution_count": null,
   "id": "7d6ec3b3",
   "metadata": {},
   "outputs": [],
   "source": []
  }
 ],
 "metadata": {
  "kernelspec": {
   "display_name": "base",
   "language": "python",
   "name": "python3"
  },
  "language_info": {
   "codemirror_mode": {
    "name": "ipython",
    "version": 3
   },
   "file_extension": ".py",
   "mimetype": "text/x-python",
   "name": "python",
   "nbconvert_exporter": "python",
   "pygments_lexer": "ipython3",
   "version": "3.13.5"
  }
 },
 "nbformat": 4,
 "nbformat_minor": 5
}
